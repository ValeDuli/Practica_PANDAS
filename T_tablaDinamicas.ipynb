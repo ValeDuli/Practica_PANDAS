{
 "cells": [
  {
   "cell_type": "code",
   "execution_count": 7,
   "metadata": {},
   "outputs": [],
   "source": [
    "import pandas as pd  "
   ]
  },
  {
   "cell_type": "code",
   "execution_count": 18,
   "metadata": {},
   "outputs": [
    {
     "data": {
      "text/html": [
       "<div>\n",
       "<style scoped>\n",
       "    .dataframe tbody tr th:only-of-type {\n",
       "        vertical-align: middle;\n",
       "    }\n",
       "\n",
       "    .dataframe tbody tr th {\n",
       "        vertical-align: top;\n",
       "    }\n",
       "\n",
       "    .dataframe thead th {\n",
       "        text-align: right;\n",
       "    }\n",
       "</style>\n",
       "<table border=\"1\" class=\"dataframe\">\n",
       "  <thead>\n",
       "    <tr style=\"text-align: right;\">\n",
       "      <th></th>\n",
       "      <th>breed</th>\n",
       "      <th>color</th>\n",
       "      <th>height_cm</th>\n",
       "      <th>weight_kg</th>\n",
       "    </tr>\n",
       "  </thead>\n",
       "  <tbody>\n",
       "    <tr>\n",
       "      <th>0</th>\n",
       "      <td>Boxer</td>\n",
       "      <td>Black</td>\n",
       "      <td>49.6</td>\n",
       "      <td>66.7</td>\n",
       "    </tr>\n",
       "    <tr>\n",
       "      <th>1</th>\n",
       "      <td>Chow Chow</td>\n",
       "      <td>White</td>\n",
       "      <td>32.5</td>\n",
       "      <td>41.2</td>\n",
       "    </tr>\n",
       "    <tr>\n",
       "      <th>2</th>\n",
       "      <td>Labrador</td>\n",
       "      <td>Black</td>\n",
       "      <td>46.7</td>\n",
       "      <td>14.5</td>\n",
       "    </tr>\n",
       "    <tr>\n",
       "      <th>3</th>\n",
       "      <td>Boxer</td>\n",
       "      <td>Gray</td>\n",
       "      <td>36.8</td>\n",
       "      <td>40.3</td>\n",
       "    </tr>\n",
       "    <tr>\n",
       "      <th>4</th>\n",
       "      <td>Beagle</td>\n",
       "      <td>Tan</td>\n",
       "      <td>30.7</td>\n",
       "      <td>67.2</td>\n",
       "    </tr>\n",
       "    <tr>\n",
       "      <th>...</th>\n",
       "      <td>...</td>\n",
       "      <td>...</td>\n",
       "      <td>...</td>\n",
       "      <td>...</td>\n",
       "    </tr>\n",
       "    <tr>\n",
       "      <th>87</th>\n",
       "      <td>Boxer</td>\n",
       "      <td>White</td>\n",
       "      <td>36.0</td>\n",
       "      <td>31.3</td>\n",
       "    </tr>\n",
       "    <tr>\n",
       "      <th>88</th>\n",
       "      <td>Chow Chow</td>\n",
       "      <td>White</td>\n",
       "      <td>49.2</td>\n",
       "      <td>13.7</td>\n",
       "    </tr>\n",
       "    <tr>\n",
       "      <th>89</th>\n",
       "      <td>Beagle</td>\n",
       "      <td>Gray</td>\n",
       "      <td>51.9</td>\n",
       "      <td>20.9</td>\n",
       "    </tr>\n",
       "    <tr>\n",
       "      <th>90</th>\n",
       "      <td>Labrador</td>\n",
       "      <td>Tan</td>\n",
       "      <td>44.9</td>\n",
       "      <td>30.4</td>\n",
       "    </tr>\n",
       "    <tr>\n",
       "      <th>91</th>\n",
       "      <td>Chihuahua</td>\n",
       "      <td>Black</td>\n",
       "      <td>63.0</td>\n",
       "      <td>54.4</td>\n",
       "    </tr>\n",
       "  </tbody>\n",
       "</table>\n",
       "<p>92 rows × 4 columns</p>\n",
       "</div>"
      ],
      "text/plain": [
       "        breed  color  height_cm  weight_kg\n",
       "0       Boxer  Black       49.6       66.7\n",
       "1   Chow Chow  White       32.5       41.2\n",
       "2    Labrador  Black       46.7       14.5\n",
       "3       Boxer   Gray       36.8       40.3\n",
       "4      Beagle    Tan       30.7       67.2\n",
       "..        ...    ...        ...        ...\n",
       "87      Boxer  White       36.0       31.3\n",
       "88  Chow Chow  White       49.2       13.7\n",
       "89     Beagle   Gray       51.9       20.9\n",
       "90   Labrador    Tan       44.9       30.4\n",
       "91  Chihuahua  Black       63.0       54.4\n",
       "\n",
       "[92 rows x 4 columns]"
      ]
     },
     "execution_count": 18,
     "metadata": {},
     "output_type": "execute_result"
    }
   ],
   "source": [
    "import numpy as np\n",
    "import random\n",
    "\n",
    "# Número de filas que deseas generar\n",
    "num_filas = 92\n",
    "\n",
    "# Llenado de los datos que seran los aleatorios\n",
    "breed = pd.Series([\"Labrador\",\"Poodle\",\"Chow Chow\",\"Boxer\",\"Chihuahua\",\"St. Bernard\",\"Beagle\",\"Dachshund\"]) \n",
    "color = pd.Series([\"Black\",\"Brown\",\"Gray\",\"Tan\",\"White\"])\n",
    "\n",
    "# Crear un nuevo DataFrame vacío\n",
    "dog_pack = pd.DataFrame()\n",
    "\n",
    "# Rellenar cada columna con valores aleatorios según el tipo de datos\n",
    "dog_pack[\"breed\"] = [random.choice(breed) for _ in range(num_filas)]\n",
    "dog_pack[\"color\"] = [random.choice(color) for _ in range(num_filas)]\n",
    "dog_pack[\"height_cm\"] = np.round(np.random.uniform(30, 70, size=num_filas),1)\n",
    "dog_pack[\"weight_kg\"] = np.round(np.random.uniform(1, 70, size=num_filas),1)\n",
    "\n",
    "dog_pack"
   ]
  },
  {
   "cell_type": "markdown",
   "metadata": {},
   "source": [
    "Pivotando la tabla"
   ]
  },
  {
   "cell_type": "code",
   "execution_count": 19,
   "metadata": {},
   "outputs": [
    {
     "name": "stdout",
     "output_type": "stream",
     "text": [
      "color            Black   Brown       Gray        Tan      White\n",
      "breed                                                          \n",
      "Beagle       51.333333  44.280  42.750000  43.700000  44.950000\n",
      "Boxer        52.460000  47.025  40.433333        NaN  47.233333\n",
      "Chihuahua    58.250000  48.600  59.100000  67.950000  49.500000\n",
      "Chow Chow    43.733333  51.150  45.200000  54.533333  40.433333\n",
      "Dachshund    52.250000     NaN  44.066667  47.000000  61.200000\n",
      "Labrador     51.800000  43.100  52.075000  37.500000  53.900000\n",
      "Poodle       58.175000     NaN  54.350000        NaN  47.350000\n",
      "St. Bernard  61.000000  38.500  51.300000        NaN  59.100000\n"
     ]
    }
   ],
   "source": [
    "dogs_height_by_breed_vs_color = dog_pack.pivot_table( \n",
    "        \"height_cm\", index=\"breed\", columns=\"color\") \n",
    "print(dogs_height_by_breed_vs_color)"
   ]
  },
  {
   "cell_type": "markdown",
   "metadata": {},
   "source": [
    ".loc[] + slicing"
   ]
  },
  {
   "cell_type": "code",
   "execution_count": 20,
   "metadata": {},
   "outputs": [
    {
     "data": {
      "text/html": [
       "<div>\n",
       "<style scoped>\n",
       "    .dataframe tbody tr th:only-of-type {\n",
       "        vertical-align: middle;\n",
       "    }\n",
       "\n",
       "    .dataframe tbody tr th {\n",
       "        vertical-align: top;\n",
       "    }\n",
       "\n",
       "    .dataframe thead th {\n",
       "        text-align: right;\n",
       "    }\n",
       "</style>\n",
       "<table border=\"1\" class=\"dataframe\">\n",
       "  <thead>\n",
       "    <tr style=\"text-align: right;\">\n",
       "      <th>color</th>\n",
       "      <th>Black</th>\n",
       "      <th>Brown</th>\n",
       "      <th>Gray</th>\n",
       "      <th>Tan</th>\n",
       "      <th>White</th>\n",
       "    </tr>\n",
       "    <tr>\n",
       "      <th>breed</th>\n",
       "      <th></th>\n",
       "      <th></th>\n",
       "      <th></th>\n",
       "      <th></th>\n",
       "      <th></th>\n",
       "    </tr>\n",
       "  </thead>\n",
       "  <tbody>\n",
       "    <tr>\n",
       "      <th>Chow Chow</th>\n",
       "      <td>43.733333</td>\n",
       "      <td>51.15</td>\n",
       "      <td>45.200000</td>\n",
       "      <td>54.533333</td>\n",
       "      <td>40.433333</td>\n",
       "    </tr>\n",
       "    <tr>\n",
       "      <th>Dachshund</th>\n",
       "      <td>52.250000</td>\n",
       "      <td>NaN</td>\n",
       "      <td>44.066667</td>\n",
       "      <td>47.000000</td>\n",
       "      <td>61.200000</td>\n",
       "    </tr>\n",
       "    <tr>\n",
       "      <th>Labrador</th>\n",
       "      <td>51.800000</td>\n",
       "      <td>43.10</td>\n",
       "      <td>52.075000</td>\n",
       "      <td>37.500000</td>\n",
       "      <td>53.900000</td>\n",
       "    </tr>\n",
       "    <tr>\n",
       "      <th>Poodle</th>\n",
       "      <td>58.175000</td>\n",
       "      <td>NaN</td>\n",
       "      <td>54.350000</td>\n",
       "      <td>NaN</td>\n",
       "      <td>47.350000</td>\n",
       "    </tr>\n",
       "  </tbody>\n",
       "</table>\n",
       "</div>"
      ],
      "text/plain": [
       "color          Black  Brown       Gray        Tan      White\n",
       "breed                                                       \n",
       "Chow Chow  43.733333  51.15  45.200000  54.533333  40.433333\n",
       "Dachshund  52.250000    NaN  44.066667  47.000000  61.200000\n",
       "Labrador   51.800000  43.10  52.075000  37.500000  53.900000\n",
       "Poodle     58.175000    NaN  54.350000        NaN  47.350000"
      ]
     },
     "execution_count": 20,
     "metadata": {},
     "output_type": "execute_result"
    }
   ],
   "source": [
    "dogs_height_by_breed_vs_color.loc[\"Chow Chow\":\"Poodle\"] "
   ]
  },
  {
   "cell_type": "markdown",
   "metadata": {},
   "source": [
    "El argumento axis"
   ]
  },
  {
   "cell_type": "code",
   "execution_count": 21,
   "metadata": {},
   "outputs": [
    {
     "data": {
      "text/plain": [
       "color\n",
       "Black    53.625208\n",
       "Brown    45.442500\n",
       "Gray     48.659375\n",
       "Tan      50.136667\n",
       "White    50.458333\n",
       "dtype: float64"
      ]
     },
     "execution_count": 21,
     "metadata": {},
     "output_type": "execute_result"
    }
   ],
   "source": [
    "dogs_height_by_breed_vs_color.mean(axis=\"index\")"
   ]
  },
  {
   "cell_type": "markdown",
   "metadata": {},
   "source": [
    "Cálculo de estadísticas de resumen en columnas"
   ]
  },
  {
   "cell_type": "code",
   "execution_count": 23,
   "metadata": {},
   "outputs": [
    {
     "data": {
      "text/plain": [
       "breed\n",
       "Beagle         45.402667\n",
       "Boxer          46.787917\n",
       "Chihuahua      56.680000\n",
       "Chow Chow      47.010000\n",
       "Dachshund      51.129167\n",
       "Labrador       47.675000\n",
       "Poodle         53.291667\n",
       "St. Bernard    52.475000\n",
       "dtype: float64"
      ]
     },
     "execution_count": 23,
     "metadata": {},
     "output_type": "execute_result"
    }
   ],
   "source": [
    "dogs_height_by_breed_vs_color.mean(axis=\"columns\") "
   ]
  }
 ],
 "metadata": {
  "kernelspec": {
   "display_name": "Python 3",
   "language": "python",
   "name": "python3"
  },
  "language_info": {
   "codemirror_mode": {
    "name": "ipython",
    "version": 3
   },
   "file_extension": ".py",
   "mimetype": "text/x-python",
   "name": "python",
   "nbconvert_exporter": "python",
   "pygments_lexer": "ipython3",
   "version": "3.12.4"
  }
 },
 "nbformat": 4,
 "nbformat_minor": 2
}
