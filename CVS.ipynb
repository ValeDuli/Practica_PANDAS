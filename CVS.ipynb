{
 "cells": [
  {
   "cell_type": "markdown",
   "metadata": {},
   "source": [
    "CSV a DataFrame"
   ]
  },
  {
   "cell_type": "code",
   "execution_count": 1,
   "metadata": {},
   "outputs": [
    {
     "name": "stdout",
     "output_type": "stream",
     "text": [
      "     name      breed  height_cm  weight_kg       d_o_b \n",
      "0  Ginger  Dachshund         22         10  2019-03-14 \n",
      "1   Scout  Dalmatian         59         25  2019-05-09 \n"
     ]
    }
   ],
   "source": [
    "import pandas as pd \n",
    "new_dogs = pd.read_csv(\"new_dogs.csv\") \n",
    "print(new_dogs) "
   ]
  },
  {
   "cell_type": "markdown",
   "metadata": {},
   "source": [
    "Manipulación de DataFrame"
   ]
  },
  {
   "cell_type": "code",
   "execution_count": 2,
   "metadata": {},
   "outputs": [
    {
     "name": "stdout",
     "output_type": "stream",
     "text": [
      "     name      breed  height_cm  weight_kg       d_o_b          bmi\n",
      "0  Ginger  Dachshund         22         10  2019-03-14   206.611570\n",
      "1   Scout  Dalmatian         59         25  2019-05-09    71.818443\n"
     ]
    }
   ],
   "source": [
    "new_dogs[\"bmi\"] = new_dogs[\"weight_kg\"] / (new_dogs[\"height_cm\"] / 100) ** 2 \n",
    "print(new_dogs) "
   ]
  },
  {
   "cell_type": "markdown",
   "metadata": {},
   "source": [
    "DataFrame a CSV"
   ]
  },
  {
   "cell_type": "code",
   "execution_count": 3,
   "metadata": {},
   "outputs": [],
   "source": [
    "new_dogs.to_csv(\"new_dogs_with_bmi.csv\")"
   ]
  }
 ],
 "metadata": {
  "kernelspec": {
   "display_name": "Python 3",
   "language": "python",
   "name": "python3"
  },
  "language_info": {
   "codemirror_mode": {
    "name": "ipython",
    "version": 3
   },
   "file_extension": ".py",
   "mimetype": "text/x-python",
   "name": "python",
   "nbconvert_exporter": "python",
   "pygments_lexer": "ipython3",
   "version": "3.12.4"
  }
 },
 "nbformat": 4,
 "nbformat_minor": 2
}
