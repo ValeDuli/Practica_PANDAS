{
 "cells": [
  {
   "cell_type": "code",
   "execution_count": 11,
   "metadata": {},
   "outputs": [],
   "source": [
    "import pandas as pd  "
   ]
  },
  {
   "cell_type": "code",
   "execution_count": 12,
   "metadata": {},
   "outputs": [
    {
     "name": "stdout",
     "output_type": "stream",
     "text": [
      "      name        breed  color  height_cm  weight_kg date_of_birth\n",
      "0    Bella     Labrador  Brown         56         25    2013-07-01\n",
      "1  Charlie       Poodle  Black         43         23    2016-09-16\n",
      "2     Lucy    Chow Chow  Brown         46         22    2014-08-25\n",
      "3   Cooper    Schnauzer   Gray         49         17    2011-12-11\n",
      "4      Max     Labrador  Black         59         29    2017-01-20\n",
      "5   Stella    Chihuahua    Tan         18          2    2015-04-20\n",
      "6   Bernie  St. Bernard  White         77         74    2018-02-27\n"
     ]
    }
   ],
   "source": [
    "dogs=pd.DataFrame(\n",
    "    {\n",
    "        \"name\": [\"Bella\",\"Charlie\",\"Lucy\",\"Cooper\",\"Max\",\"Stella\",\"Bernie\"],\n",
    "        \"breed\": [\"Labrador\",\"Poodle\",\" Chow Chow\",\"Schnauzer\",\"Labrador\",\"Chihuahua\",\"St. Bernard\"],\n",
    "        \"color\": [\"Brown\",\"Black\",\"Brown\",\"Gray\",\"Black\",\"Tan\",\"White\"],\n",
    "        \"height_cm\": [56,43,46,49,59,18,77],\n",
    "        \"weight_kg\": [25,23,22,17,29,2,74],\n",
    "        \"date_of_birth\": ['2013-07-01','2016-09-16','2014-08-25','2011-12-11','2017-01-20','2015-04-20','2018-02-27'],\n",
    "    }\n",
    ")\n",
    "print(dogs)"
   ]
  },
  {
   "cell_type": "markdown",
   "metadata": {},
   "source": [
    "Exploración de un DataFrame: .head()"
   ]
  },
  {
   "cell_type": "code",
   "execution_count": 13,
   "metadata": {},
   "outputs": [
    {
     "name": "stdout",
     "output_type": "stream",
     "text": [
      "      name       breed  color  height_cm  weight_kg date_of_birth\n",
      "0    Bella    Labrador  Brown         56         25    2013-07-01\n",
      "1  Charlie      Poodle  Black         43         23    2016-09-16\n",
      "2     Lucy   Chow Chow  Brown         46         22    2014-08-25\n",
      "3   Cooper   Schnauzer   Gray         49         17    2011-12-11\n",
      "4      Max    Labrador  Black         59         29    2017-01-20\n"
     ]
    }
   ],
   "source": [
    "print(dogs.head())"
   ]
  },
  {
   "cell_type": "markdown",
   "metadata": {},
   "source": [
    "Exploración de un DataFrame: .info()"
   ]
  },
  {
   "cell_type": "code",
   "execution_count": 14,
   "metadata": {},
   "outputs": [
    {
     "name": "stdout",
     "output_type": "stream",
     "text": [
      "<class 'pandas.core.frame.DataFrame'>\n",
      "RangeIndex: 7 entries, 0 to 6\n",
      "Data columns (total 6 columns):\n",
      " #   Column         Non-Null Count  Dtype \n",
      "---  ------         --------------  ----- \n",
      " 0   name           7 non-null      object\n",
      " 1   breed          7 non-null      object\n",
      " 2   color          7 non-null      object\n",
      " 3   height_cm      7 non-null      int64 \n",
      " 4   weight_kg      7 non-null      int64 \n",
      " 5   date_of_birth  7 non-null      object\n",
      "dtypes: int64(2), object(4)\n",
      "memory usage: 468.0+ bytes\n",
      "None\n"
     ]
    }
   ],
   "source": [
    "print(dogs.info())"
   ]
  },
  {
   "cell_type": "markdown",
   "metadata": {},
   "source": [
    "Exploración de un DataFrame: .shape()"
   ]
  },
  {
   "cell_type": "code",
   "execution_count": 15,
   "metadata": {},
   "outputs": [
    {
     "name": "stdout",
     "output_type": "stream",
     "text": [
      "(7, 6)\n"
     ]
    }
   ],
   "source": [
    "print(dogs.shape)"
   ]
  },
  {
   "cell_type": "markdown",
   "metadata": {},
   "source": [
    "Exploración de un DataFrame: .describe()"
   ]
  },
  {
   "cell_type": "code",
   "execution_count": 16,
   "metadata": {},
   "outputs": [
    {
     "name": "stdout",
     "output_type": "stream",
     "text": [
      "       height_cm  weight_kg\n",
      "count   7.000000   7.000000\n",
      "mean   49.714286  27.428571\n",
      "std    17.960274  22.292429\n",
      "min    18.000000   2.000000\n",
      "25%    44.500000  19.500000\n",
      "50%    49.000000  23.000000\n",
      "75%    57.500000  27.000000\n",
      "max    77.000000  74.000000\n"
     ]
    }
   ],
   "source": [
    "print(dogs.describe())"
   ]
  },
  {
   "cell_type": "markdown",
   "metadata": {},
   "source": [
    "Componentes de un DataFrame: .values"
   ]
  },
  {
   "cell_type": "code",
   "execution_count": 17,
   "metadata": {},
   "outputs": [
    {
     "name": "stdout",
     "output_type": "stream",
     "text": [
      "[['Bella' 'Labrador' 'Brown' 56 25 '2013-07-01']\n",
      " ['Charlie' 'Poodle' 'Black' 43 23 '2016-09-16']\n",
      " ['Lucy' ' Chow Chow' 'Brown' 46 22 '2014-08-25']\n",
      " ['Cooper' 'Schnauzer' 'Gray' 49 17 '2011-12-11']\n",
      " ['Max' 'Labrador' 'Black' 59 29 '2017-01-20']\n",
      " ['Stella' 'Chihuahua' 'Tan' 18 2 '2015-04-20']\n",
      " ['Bernie' 'St. Bernard' 'White' 77 74 '2018-02-27']]\n"
     ]
    }
   ],
   "source": [
    "print(dogs.values)"
   ]
  },
  {
   "cell_type": "markdown",
   "metadata": {},
   "source": [
    "Componentes de un DataFrame: .columns y .index"
   ]
  },
  {
   "cell_type": "code",
   "execution_count": 18,
   "metadata": {},
   "outputs": [
    {
     "name": "stdout",
     "output_type": "stream",
     "text": [
      "Index(['name', 'breed', 'color', 'height_cm', 'weight_kg', 'date_of_birth'], dtype='object')\n"
     ]
    }
   ],
   "source": [
    "print(dogs.columns) "
   ]
  },
  {
   "cell_type": "code",
   "execution_count": 19,
   "metadata": {},
   "outputs": [
    {
     "data": {
      "text/plain": [
       "RangeIndex(start=0, stop=7, step=1)"
      ]
     },
     "execution_count": 19,
     "metadata": {},
     "output_type": "execute_result"
    }
   ],
   "source": [
    "dogs.index"
   ]
  }
 ],
 "metadata": {
  "kernelspec": {
   "display_name": "Python 3",
   "language": "python",
   "name": "python3"
  },
  "language_info": {
   "codemirror_mode": {
    "name": "ipython",
    "version": 3
   },
   "file_extension": ".py",
   "mimetype": "text/x-python",
   "name": "python",
   "nbconvert_exporter": "python",
   "pygments_lexer": "ipython3",
   "version": "3.12.4"
  }
 },
 "nbformat": 4,
 "nbformat_minor": 2
}
