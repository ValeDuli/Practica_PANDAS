{
 "cells": [
  {
   "cell_type": "code",
   "execution_count": 27,
   "metadata": {},
   "outputs": [],
   "source": [
    "import pandas as pd  "
   ]
  },
  {
   "cell_type": "code",
   "execution_count": 28,
   "metadata": {},
   "outputs": [],
   "source": [
    "dogs=pd.DataFrame(\n",
    "    {\n",
    "        \"name\": [\"Bella\",\"Charlie\",\"Lucy\",\"Cooper\",\"Max\",\"Stella\",\"Bernie\"],\n",
    "        \"breed\": [\"Labrador\",\"Poodle\",\" Chow Chow\",\"Schnauzer\",\"Labrador\",\"Chihuahua\",\"St. Bernard\"],\n",
    "        \"color\": [\"Brown\",\"Black\",\"Brown\",\"Gray\",\"Black\",\"Tan\",\"White\"],\n",
    "        \"height_cm\": [56,43,46,49,59,18,77],\n",
    "        \"weight_kg\": [24,24,24,17,29,2,74],\n",
    "        \"date_of_birth\": ['2013-07-01','2016-09-16','2014-08-25','2011-12-11','2017-01-20','2015-04-20','2018-02-27'],\n",
    "    }\n",
    ")"
   ]
  },
  {
   "cell_type": "markdown",
   "metadata": {},
   "source": [
    "Resumen de datos numéricos"
   ]
  },
  {
   "cell_type": "code",
   "execution_count": 29,
   "metadata": {},
   "outputs": [
    {
     "name": "stdout",
     "output_type": "stream",
     "text": [
      "49.714285714285715\n"
     ]
    }
   ],
   "source": [
    "print(dogs[\"height_cm\"].mean())"
   ]
  },
  {
   "cell_type": "markdown",
   "metadata": {},
   "source": [
    "Resumen de fechas"
   ]
  },
  {
   "cell_type": "code",
   "execution_count": 30,
   "metadata": {},
   "outputs": [
    {
     "data": {
      "text/plain": [
       "'2011-12-11'"
      ]
     },
     "execution_count": 30,
     "metadata": {},
     "output_type": "execute_result"
    }
   ],
   "source": [
    "dogs[\"date_of_birth\"].min()"
   ]
  },
  {
   "cell_type": "code",
   "execution_count": 31,
   "metadata": {},
   "outputs": [
    {
     "data": {
      "text/plain": [
       "'2018-02-27'"
      ]
     },
     "execution_count": 31,
     "metadata": {},
     "output_type": "execute_result"
    }
   ],
   "source": [
    "dogs[\"date_of_birth\"].max()"
   ]
  },
  {
   "cell_type": "markdown",
   "metadata": {},
   "source": [
    "El método .agg()"
   ]
  },
  {
   "cell_type": "code",
   "execution_count": 32,
   "metadata": {},
   "outputs": [],
   "source": [
    "def pct30(column): \n",
    "    return column.quantile(0.3) "
   ]
  },
  {
   "cell_type": "code",
   "execution_count": 33,
   "metadata": {},
   "outputs": [
    {
     "name": "stdout",
     "output_type": "stream",
     "text": [
      "22.599999999999998\n"
     ]
    }
   ],
   "source": [
    "print(dogs[\"weight_kg\"].agg(pct30))"
   ]
  },
  {
   "cell_type": "markdown",
   "metadata": {},
   "source": [
    "Resúmenes en varias columnas"
   ]
  },
  {
   "cell_type": "code",
   "execution_count": 34,
   "metadata": {},
   "outputs": [
    {
     "data": {
      "text/plain": [
       "weight_kg    22.6\n",
       "height_cm    45.4\n",
       "dtype: float64"
      ]
     },
     "execution_count": 34,
     "metadata": {},
     "output_type": "execute_result"
    }
   ],
   "source": [
    "dogs[[\"weight_kg\", \"height_cm\"]].agg(pct30) "
   ]
  },
  {
   "cell_type": "markdown",
   "metadata": {},
   "source": [
    "Múltiples resúmenes"
   ]
  },
  {
   "cell_type": "code",
   "execution_count": 35,
   "metadata": {},
   "outputs": [],
   "source": [
    "def pct40(column): \n",
    "    return column.quantile(0.4) "
   ]
  },
  {
   "cell_type": "code",
   "execution_count": 36,
   "metadata": {},
   "outputs": [
    {
     "data": {
      "text/plain": [
       "pct30    22.6\n",
       "pct40    24.0\n",
       "Name: weight_kg, dtype: float64"
      ]
     },
     "execution_count": 36,
     "metadata": {},
     "output_type": "execute_result"
    }
   ],
   "source": [
    "dogs[\"weight_kg\"].agg([pct30, pct40]) "
   ]
  },
  {
   "cell_type": "markdown",
   "metadata": {},
   "source": [
    "Suma acumulada"
   ]
  },
  {
   "cell_type": "code",
   "execution_count": 37,
   "metadata": {},
   "outputs": [
    {
     "data": {
      "text/plain": [
       "0    24\n",
       "1    24\n",
       "2    24\n",
       "3    17\n",
       "4    29\n",
       "5     2\n",
       "6    74\n",
       "Name: weight_kg, dtype: int64"
      ]
     },
     "execution_count": 37,
     "metadata": {},
     "output_type": "execute_result"
    }
   ],
   "source": [
    "dogs[\"weight_kg\"]"
   ]
  },
  {
   "cell_type": "code",
   "execution_count": 38,
   "metadata": {},
   "outputs": [
    {
     "data": {
      "text/plain": [
       "0     24\n",
       "1     48\n",
       "2     72\n",
       "3     89\n",
       "4    118\n",
       "5    120\n",
       "6    194\n",
       "Name: weight_kg, dtype: int64"
      ]
     },
     "execution_count": 38,
     "metadata": {},
     "output_type": "execute_result"
    }
   ],
   "source": [
    "dogs[\"weight_kg\"].cumsum()"
   ]
  }
 ],
 "metadata": {
  "kernelspec": {
   "display_name": "Python 3",
   "language": "python",
   "name": "python3"
  },
  "language_info": {
   "codemirror_mode": {
    "name": "ipython",
    "version": 3
   },
   "file_extension": ".py",
   "mimetype": "text/x-python",
   "name": "python",
   "nbconvert_exporter": "python",
   "pygments_lexer": "ipython3",
   "version": "3.12.4"
  }
 },
 "nbformat": 4,
 "nbformat_minor": 2
}
