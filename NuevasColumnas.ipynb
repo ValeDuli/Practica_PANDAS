{
 "cells": [
  {
   "cell_type": "code",
   "execution_count": 1,
   "metadata": {},
   "outputs": [],
   "source": [
    "import pandas as pd  "
   ]
  },
  {
   "cell_type": "code",
   "execution_count": 2,
   "metadata": {},
   "outputs": [],
   "source": [
    "dogs=pd.DataFrame(\n",
    "    {\n",
    "        \"name\": [\"Bella\",\"Charlie\",\"Lucy\",\"Cooper\",\"Max\",\"Stella\",\"Bernie\"],\n",
    "        \"breed\": [\"Labrador\",\"Poodle\",\" Chow Chow\",\"Schnauzer\",\"Labrador\",\"Chihuahua\",\"St. Bernard\"],\n",
    "        \"color\": [\"Brown\",\"Black\",\"Brown\",\"Gray\",\"Black\",\"Tan\",\"White\"],\n",
    "        \"height_cm\": [56,43,46,49,59,18,77],\n",
    "        \"weight_kg\": [25,23,22,17,29,2,74],\n",
    "        \"date_of_birth\": ['2013-07-01','2016-09-16','2014-08-25','2011-12-11','2017-01-20','2015-04-20','2018-02-27'],\n",
    "    }\n",
    ")"
   ]
  },
  {
   "cell_type": "markdown",
   "metadata": {},
   "source": [
    "Añadir una nueva columna"
   ]
  },
  {
   "cell_type": "code",
   "execution_count": 3,
   "metadata": {},
   "outputs": [
    {
     "name": "stdout",
     "output_type": "stream",
     "text": [
      "      name        breed  color  height_cm  weight_kg date_of_birth  height_m\n",
      "0    Bella     Labrador  Brown         56         25    2013-07-01      0.56\n",
      "1  Charlie       Poodle  Black         43         23    2016-09-16      0.43\n",
      "2     Lucy    Chow Chow  Brown         46         22    2014-08-25      0.46\n",
      "3   Cooper    Schnauzer   Gray         49         17    2011-12-11      0.49\n",
      "4      Max     Labrador  Black         59         29    2017-01-20      0.59\n",
      "5   Stella    Chihuahua    Tan         18          2    2015-04-20      0.18\n",
      "6   Bernie  St. Bernard  White         77         74    2018-02-27      0.77\n"
     ]
    }
   ],
   "source": [
    "dogs[\"height_m\"] = dogs[\"height_cm\"] / 100 \n",
    "print(dogs)"
   ]
  },
  {
   "cell_type": "code",
   "execution_count": 4,
   "metadata": {},
   "outputs": [
    {
     "name": "stdout",
     "output_type": "stream",
     "text": [
      "      name       breed  color  height_cm  weight_kg date_of_birth  height_m  \\\n",
      "0    Bella    Labrador  Brown         56         25    2013-07-01      0.56   \n",
      "1  Charlie      Poodle  Black         43         23    2016-09-16      0.43   \n",
      "2     Lucy   Chow Chow  Brown         46         22    2014-08-25      0.46   \n",
      "3   Cooper   Schnauzer   Gray         49         17    2011-12-11      0.49   \n",
      "4      Max    Labrador  Black         59         29    2017-01-20      0.59   \n",
      "\n",
      "          bmi  \n",
      "0   79.719388  \n",
      "1  124.391563  \n",
      "2  103.969754  \n",
      "3   70.803832  \n",
      "4   83.309394  \n"
     ]
    }
   ],
   "source": [
    "dogs[\"bmi\"] = dogs[\"weight_kg\"] / dogs[\"height_m\"] ** 2 \n",
    "print(dogs.head()) "
   ]
  },
  {
   "cell_type": "markdown",
   "metadata": {},
   "source": [
    "Múltiples manipulaciones"
   ]
  },
  {
   "cell_type": "code",
   "execution_count": 5,
   "metadata": {},
   "outputs": [
    {
     "data": {
      "text/html": [
       "<div>\n",
       "<style scoped>\n",
       "    .dataframe tbody tr th:only-of-type {\n",
       "        vertical-align: middle;\n",
       "    }\n",
       "\n",
       "    .dataframe tbody tr th {\n",
       "        vertical-align: top;\n",
       "    }\n",
       "\n",
       "    .dataframe thead th {\n",
       "        text-align: right;\n",
       "    }\n",
       "</style>\n",
       "<table border=\"1\" class=\"dataframe\">\n",
       "  <thead>\n",
       "    <tr style=\"text-align: right;\">\n",
       "      <th></th>\n",
       "      <th>name</th>\n",
       "      <th>height_cm</th>\n",
       "      <th>bmi</th>\n",
       "    </tr>\n",
       "  </thead>\n",
       "  <tbody>\n",
       "    <tr>\n",
       "      <th>4</th>\n",
       "      <td>Max</td>\n",
       "      <td>59</td>\n",
       "      <td>83.309394</td>\n",
       "    </tr>\n",
       "    <tr>\n",
       "      <th>0</th>\n",
       "      <td>Bella</td>\n",
       "      <td>56</td>\n",
       "      <td>79.719388</td>\n",
       "    </tr>\n",
       "    <tr>\n",
       "      <th>3</th>\n",
       "      <td>Cooper</td>\n",
       "      <td>49</td>\n",
       "      <td>70.803832</td>\n",
       "    </tr>\n",
       "    <tr>\n",
       "      <th>5</th>\n",
       "      <td>Stella</td>\n",
       "      <td>18</td>\n",
       "      <td>61.728395</td>\n",
       "    </tr>\n",
       "  </tbody>\n",
       "</table>\n",
       "</div>"
      ],
      "text/plain": [
       "     name  height_cm        bmi\n",
       "4     Max         59  83.309394\n",
       "0   Bella         56  79.719388\n",
       "3  Cooper         49  70.803832\n",
       "5  Stella         18  61.728395"
      ]
     },
     "execution_count": 5,
     "metadata": {},
     "output_type": "execute_result"
    }
   ],
   "source": [
    "bmi_lt_100 = dogs[dogs[\"bmi\"] < 100] \n",
    "bmi_lt_100_height  = bmi_lt_100.sort_values(\"height_cm\", ascending=False) \n",
    "bmi_lt_100_height[[\"name\", \"height_cm\", \"bmi\"]]"
   ]
  }
 ],
 "metadata": {
  "kernelspec": {
   "display_name": "Python 3",
   "language": "python",
   "name": "python3"
  },
  "language_info": {
   "codemirror_mode": {
    "name": "ipython",
    "version": 3
   },
   "file_extension": ".py",
   "mimetype": "text/x-python",
   "name": "python",
   "nbconvert_exporter": "python",
   "pygments_lexer": "ipython3",
   "version": "3.12.4"
  }
 },
 "nbformat": 4,
 "nbformat_minor": 2
}
