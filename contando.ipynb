{
 "cells": [
  {
   "cell_type": "code",
   "execution_count": 16,
   "metadata": {},
   "outputs": [],
   "source": [
    "import pandas as pd  "
   ]
  },
  {
   "cell_type": "code",
   "execution_count": 17,
   "metadata": {},
   "outputs": [],
   "source": [
    "dogs=pd.DataFrame(\n",
    "    {\n",
    "        \"name\": [\"Bella\",\"Charlie\",\"Lucy\",\"Cooper\",\"Max\",\"Stella\",\"Bernie\"],\n",
    "        \"breed\": [\"Labrador\",\"Poodle\",\"Chow Chow\",\"Schnauzer\",\"Labrador\",\"Chihuahua\",\"St. Bernard\"],\n",
    "        \"color\": [\"Brown\",\"Black\",\"Brown\",\"Gray\",\"Black\",\"Tan\",\"White\"],\n",
    "        \"height_cm\": [56,43,46,49,59,18,77],\n",
    "        \"weight_kg\": [25,23,22,17,29,2,74],\n",
    "        \"date_of_birth\": ['2013-07-01','2016-09-16','2014-08-25','2011-12-11','2017-01-20','2015-04-20','2018-02-27'],\n",
    "    }\n",
    ")"
   ]
  },
  {
   "cell_type": "code",
   "execution_count": 18,
   "metadata": {},
   "outputs": [
    {
     "name": "stdout",
     "output_type": "stream",
     "text": [
      "         date    name        breed  weight_kg\n",
      "0  2019-01-27    Lucy    Chow Chow         21\n",
      "1  2018-02-20    Lucy    Chow Chow         25\n",
      "2  2019-02-12     Max     Labrador         29\n",
      "3  2019-06-03    Lucy    Chow Chow         22\n",
      "4  2018-06-28   Bella     Labrador         28\n",
      "..        ...     ...          ...        ...\n",
      "70 2018-08-05  Bernie  St. Bernard         75\n",
      "71 2019-06-18  Stella    Chihuahua          6\n",
      "72 2019-02-12     Max     Labrador         30\n",
      "73 2019-01-16    Lucy    Chow Chow         23\n",
      "74 2018-03-15    Lucy    Chow Chow         25\n",
      "\n",
      "[75 rows x 4 columns]\n"
     ]
    }
   ],
   "source": [
    "import numpy as np\n",
    "import random\n",
    "\n",
    "# Número de filas que deseas generar\n",
    "num_filas = 75\n",
    "\n",
    "# Definir el rango de fechas\n",
    "fecha_inicio = pd.to_datetime(\"2018-01-01\")\n",
    "fecha_fin = pd.to_datetime(\"2019-12-31\")\n",
    "\n",
    "# Calcular el rango en días entre las fechas\n",
    "dias_rango = (fecha_fin - fecha_inicio).days\n",
    "\n",
    "# Generar números aleatorios de días dentro del rango\n",
    "dias_aleatorios = np.random.randint(0, dias_rango, size=num_filas)\n",
    "\n",
    "# Sumar los días aleatorios a la fecha de inicio para obtener las fechas finales\n",
    "fechas_aleatorias = fecha_inicio + pd.to_timedelta(dias_aleatorios, unit='D')\n",
    "\n",
    "# Seleccionar 'Name' aleatoriamente y asignar el 'Breed' correspondientes\n",
    "names_aleatorios = [random.choice(dogs[\"name\"]) for _ in range(num_filas)]\n",
    "\n",
    "# Crear un nuevo DataFrame vacío\n",
    "vet_visits = pd.DataFrame()\n",
    "\n",
    "# Rellenar cada columna con valores aleatorios según el tipo de datos\n",
    "vet_visits[\"date\"] = fechas_aleatorias\n",
    "vet_visits[\"name\"] = names_aleatorios\n",
    "vet_visits[\"breed\"] = [dogs.loc[dogs[\"name\"] == name, \"breed\"].values[0] for name in names_aleatorios]\n",
    "vet_visits[\"weight_kg\"] = [\n",
    "    random.randint(\n",
    "        int(dogs.loc[dogs[\"name\"] == name, \"weight_kg\"].values[0] - 3),\n",
    "        int(dogs.loc[dogs[\"name\"] == name, \"weight_kg\"].values[0] + 5)\n",
    "    )\n",
    "    for name in names_aleatorios\n",
    "]\n",
    "\n",
    "\n",
    "print(vet_visits)"
   ]
  },
  {
   "cell_type": "markdown",
   "metadata": {},
   "source": [
    "Eliminación de nombres duplicados"
   ]
  },
  {
   "cell_type": "code",
   "execution_count": 19,
   "metadata": {},
   "outputs": [
    {
     "data": {
      "text/html": [
       "<div>\n",
       "<style scoped>\n",
       "    .dataframe tbody tr th:only-of-type {\n",
       "        vertical-align: middle;\n",
       "    }\n",
       "\n",
       "    .dataframe tbody tr th {\n",
       "        vertical-align: top;\n",
       "    }\n",
       "\n",
       "    .dataframe thead th {\n",
       "        text-align: right;\n",
       "    }\n",
       "</style>\n",
       "<table border=\"1\" class=\"dataframe\">\n",
       "  <thead>\n",
       "    <tr style=\"text-align: right;\">\n",
       "      <th></th>\n",
       "      <th>date</th>\n",
       "      <th>name</th>\n",
       "      <th>breed</th>\n",
       "      <th>weight_kg</th>\n",
       "    </tr>\n",
       "  </thead>\n",
       "  <tbody>\n",
       "    <tr>\n",
       "      <th>0</th>\n",
       "      <td>2019-01-27</td>\n",
       "      <td>Lucy</td>\n",
       "      <td>Chow Chow</td>\n",
       "      <td>21</td>\n",
       "    </tr>\n",
       "    <tr>\n",
       "      <th>2</th>\n",
       "      <td>2019-02-12</td>\n",
       "      <td>Max</td>\n",
       "      <td>Labrador</td>\n",
       "      <td>29</td>\n",
       "    </tr>\n",
       "    <tr>\n",
       "      <th>4</th>\n",
       "      <td>2018-06-28</td>\n",
       "      <td>Bella</td>\n",
       "      <td>Labrador</td>\n",
       "      <td>28</td>\n",
       "    </tr>\n",
       "    <tr>\n",
       "      <th>5</th>\n",
       "      <td>2018-03-04</td>\n",
       "      <td>Bernie</td>\n",
       "      <td>St. Bernard</td>\n",
       "      <td>78</td>\n",
       "    </tr>\n",
       "    <tr>\n",
       "      <th>6</th>\n",
       "      <td>2019-05-02</td>\n",
       "      <td>Stella</td>\n",
       "      <td>Chihuahua</td>\n",
       "      <td>4</td>\n",
       "    </tr>\n",
       "    <tr>\n",
       "      <th>8</th>\n",
       "      <td>2019-05-02</td>\n",
       "      <td>Charlie</td>\n",
       "      <td>Poodle</td>\n",
       "      <td>26</td>\n",
       "    </tr>\n",
       "    <tr>\n",
       "      <th>15</th>\n",
       "      <td>2019-10-22</td>\n",
       "      <td>Cooper</td>\n",
       "      <td>Schnauzer</td>\n",
       "      <td>15</td>\n",
       "    </tr>\n",
       "  </tbody>\n",
       "</table>\n",
       "</div>"
      ],
      "text/plain": [
       "         date     name        breed  weight_kg\n",
       "0  2019-01-27     Lucy    Chow Chow         21\n",
       "2  2019-02-12      Max     Labrador         29\n",
       "4  2018-06-28    Bella     Labrador         28\n",
       "5  2018-03-04   Bernie  St. Bernard         78\n",
       "6  2019-05-02   Stella    Chihuahua          4\n",
       "8  2019-05-02  Charlie       Poodle         26\n",
       "15 2019-10-22   Cooper    Schnauzer         15"
      ]
     },
     "execution_count": 19,
     "metadata": {},
     "output_type": "execute_result"
    }
   ],
   "source": [
    "vet_visits.drop_duplicates(subset=\"name\")"
   ]
  },
  {
   "cell_type": "markdown",
   "metadata": {},
   "source": [
    "Eliminación de pares duplicados"
   ]
  },
  {
   "cell_type": "code",
   "execution_count": 20,
   "metadata": {},
   "outputs": [
    {
     "name": "stdout",
     "output_type": "stream",
     "text": [
      "         date     name        breed  weight_kg\n",
      "0  2019-01-27     Lucy    Chow Chow         21\n",
      "2  2019-02-12      Max     Labrador         29\n",
      "4  2018-06-28    Bella     Labrador         28\n",
      "5  2018-03-04   Bernie  St. Bernard         78\n",
      "6  2019-05-02   Stella    Chihuahua          4\n",
      "8  2019-05-02  Charlie       Poodle         26\n",
      "15 2019-10-22   Cooper    Schnauzer         15\n"
     ]
    }
   ],
   "source": [
    "unique_dogs = vet_visits.drop_duplicates(subset=[\"name\", \"breed\"]) \n",
    "print(unique_dogs)"
   ]
  },
  {
   "cell_type": "code",
   "execution_count": 21,
   "metadata": {},
   "outputs": [
    {
     "data": {
      "text/plain": [
       "breed\n",
       "Labrador       2\n",
       "Chow Chow      1\n",
       "St. Bernard    1\n",
       "Chihuahua      1\n",
       "Poodle         1\n",
       "Schnauzer      1\n",
       "Name: count, dtype: int64"
      ]
     },
     "execution_count": 21,
     "metadata": {},
     "output_type": "execute_result"
    }
   ],
   "source": [
    "unique_dogs[\"breed\"].value_counts() "
   ]
  },
  {
   "cell_type": "code",
   "execution_count": 22,
   "metadata": {},
   "outputs": [
    {
     "data": {
      "text/plain": [
       "breed\n",
       "Labrador       2\n",
       "Chow Chow      1\n",
       "St. Bernard    1\n",
       "Chihuahua      1\n",
       "Poodle         1\n",
       "Schnauzer      1\n",
       "Name: count, dtype: int64"
      ]
     },
     "execution_count": 22,
     "metadata": {},
     "output_type": "execute_result"
    }
   ],
   "source": [
    "unique_dogs[\"breed\"].value_counts(sort=True)"
   ]
  },
  {
   "cell_type": "markdown",
   "metadata": {},
   "source": [
    "Proporciones"
   ]
  },
  {
   "cell_type": "code",
   "execution_count": 23,
   "metadata": {},
   "outputs": [
    {
     "data": {
      "text/plain": [
       "breed\n",
       "Labrador       0.285714\n",
       "Chow Chow      0.142857\n",
       "St. Bernard    0.142857\n",
       "Chihuahua      0.142857\n",
       "Poodle         0.142857\n",
       "Schnauzer      0.142857\n",
       "Name: proportion, dtype: float64"
      ]
     },
     "execution_count": 23,
     "metadata": {},
     "output_type": "execute_result"
    }
   ],
   "source": [
    "unique_dogs[\"breed\"].value_counts(normalize=True) "
   ]
  }
 ],
 "metadata": {
  "kernelspec": {
   "display_name": "Python 3",
   "language": "python",
   "name": "python3"
  },
  "language_info": {
   "codemirror_mode": {
    "name": "ipython",
    "version": 3
   },
   "file_extension": ".py",
   "mimetype": "text/x-python",
   "name": "python",
   "nbconvert_exporter": "python",
   "pygments_lexer": "ipython3",
   "version": "3.12.4"
  }
 },
 "nbformat": 4,
 "nbformat_minor": 2
}
